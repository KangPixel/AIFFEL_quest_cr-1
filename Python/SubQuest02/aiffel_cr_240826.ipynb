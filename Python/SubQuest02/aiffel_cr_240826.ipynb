{
  "nbformat": 4,
  "nbformat_minor": 0,
  "metadata": {
    "colab": {
      "provenance": [],
      "mount_file_id": "1dIx6yYW7PSVFMyKarLA87FcgdYtFfjhj",
      "authorship_tag": "ABX9TyN7beb3bzWTrz4as2mMTtqN",
      "include_colab_link": true
    },
    "kernelspec": {
      "name": "python3",
      "display_name": "Python 3"
    },
    "language_info": {
      "name": "python"
    }
  },
  "cells": [
    {
      "cell_type": "markdown",
      "metadata": {
        "id": "view-in-github",
        "colab_type": "text"
      },
      "source": [
        "<a href=\"https://colab.research.google.com/github/incheonQ/AIFFEL_quest_cr/blob/main/Python/SubQuest02/aiffel_cr_240826.ipynb\" target=\"_parent\"><img src=\"https://colab.research.google.com/assets/colab-badge.svg\" alt=\"Open In Colab\"/></a>"
      ]
    },
    {
      "cell_type": "code",
      "source": [
        "import re\n",
        "\n",
        "def preprocessing(lines): # 전처리: 소문자 변환, 특수문자 제거\n",
        "  new_lines = \"\"\n",
        "  for line in lines:\n",
        "\n",
        "    # 소문자 변환\n",
        "    line = line.lower()\n",
        "\n",
        "    # 특수문자 제거\n",
        "    line = re.sub(r'[^a-zA-Z0-9ㄱ-힣\\s]', '', line) # substitute 대체하다\n",
        "\n",
        "    new_lines += line\n",
        "\n",
        "  return new_lines"
      ],
      "metadata": {
        "collapsed": true,
        "id": "VVZfRg1sXBZw"
      },
      "execution_count": 1,
      "outputs": []
    },
    {
      "cell_type": "code",
      "source": [
        "def make_dic(file_path):\n",
        "\n",
        "  # 텍스트 파일 불러오기\n",
        "  f = open(file_path, 'r')\n",
        "  lines = f.readlines() # 리스트 자료형\n",
        "\n",
        "  # 전처리\n",
        "  preprocessed_lines = preprocessing(lines)\n",
        "\n",
        "  # 단어 분리 및 빈도수 누적 \"Hello World I am boy\" -> list\n",
        "  dict_wordCounts = {}\n",
        "  for line in preprocessed_lines.split('\\n'): # 문장 분리\n",
        "    for word in line.split():\n",
        "      if word not in dict_wordCounts: # 단어가 딕셔너리에 없을 경우\n",
        "        dict_wordCounts[word] = 1 # 키 생성 및 값 1\n",
        "\n",
        "      else: # 있을 경우\n",
        "        dict_wordCounts[word] += 1 # 누적(값 변경)\n",
        "\n",
        "  # 빈도수 정렬\n",
        "  sorted_dict = dict(sorted(dict_wordCounts.items(), key=lambda item: item[1], reverse=True)) # 내림차순 정렬\n",
        "\n",
        "  # 빈도수가 높은 단어순으로 정수 매칭\n",
        "  dic = {}\n",
        "  for index, word in enumerate(sorted_dict.keys()): # enumerate는 순서 부여, index는 순서, word는 키(단어)\n",
        "    dic[word] = index\n",
        "\n",
        "  return dic"
      ],
      "metadata": {
        "id": "9Hm93zyws1ex"
      },
      "execution_count": 2,
      "outputs": []
    },
    {
      "cell_type": "code",
      "source": [
        "def encoder(dic): # 문자열 -> 정수\n",
        "\n",
        "  # 문장 입력 받기\n",
        "  text = input(\"입력하세요: \") # The world will be his and the universe yours\n",
        "\n",
        "  # 전처리\n",
        "  text_preprocessed = preprocessing(list(text))\n",
        "\n",
        "  # 입력된 단어를 정수로 바꾸기\n",
        "  result = []\n",
        "  for word in text_preprocessed.split():\n",
        "    if word in dic:\n",
        "      result.append(dic[word])\n",
        "\n",
        "    else: # 원하는 단어가 딕셔너리에 없는 경우\n",
        "      result.append(-1)\n",
        "\n",
        "  return result"
      ],
      "metadata": {
        "id": "6KgRmuRpzO9J"
      },
      "execution_count": 3,
      "outputs": []
    },
    {
      "cell_type": "code",
      "source": [
        "file_path = \"/content/drive/MyDrive/aiffel/Avengers.txt\"\n",
        "dic = make_dic(file_path)"
      ],
      "metadata": {
        "id": "Ylnb-E2gzZAn"
      },
      "execution_count": 4,
      "outputs": []
    },
    {
      "cell_type": "code",
      "source": [
        "result = encoder(dic) #  The world will be his and the universe yours.\n",
        "result"
      ],
      "metadata": {
        "colab": {
          "base_uri": "https://localhost:8080/"
        },
        "id": "ndIOvlYMtFGS",
        "outputId": "c7936176-b82f-429a-9438-5ca338e7fbd6"
      },
      "execution_count": 6,
      "outputs": [
        {
          "name": "stdout",
          "output_type": "stream",
          "text": [
            "입력하세요: The world will be his and the universe yours.\n"
          ]
        },
        {
          "output_type": "execute_result",
          "data": {
            "text/plain": [
              "[1, 78, 57, 21, 50, 8, 1, 507, 508]"
            ]
          },
          "metadata": {},
          "execution_count": 6
        }
      ]
    },
    {
      "cell_type": "code",
      "source": [],
      "metadata": {
        "id": "AylW4Au00DaL"
      },
      "execution_count": null,
      "outputs": []
    }
  ]
}