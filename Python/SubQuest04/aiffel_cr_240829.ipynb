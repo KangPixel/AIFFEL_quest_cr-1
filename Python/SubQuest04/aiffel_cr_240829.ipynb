{
  "nbformat": 4,
  "nbformat_minor": 0,
  "metadata": {
    "colab": {
      "provenance": [],
      "include_colab_link": true
    },
    "kernelspec": {
      "name": "python3",
      "display_name": "Python 3"
    },
    "language_info": {
      "name": "python"
    }
  },
  "cells": [
    {
      "cell_type": "markdown",
      "metadata": {
        "id": "view-in-github",
        "colab_type": "text"
      },
      "source": [
        "<a href=\"https://colab.research.google.com/github/incheonQ/AIFFEL_quest_cr/blob/main/Python/SubQuest04/aiffel_cr_240829.ipynb\" target=\"_parent\"><img src=\"https://colab.research.google.com/assets/colab-badge.svg\" alt=\"Open In Colab\"/></a>"
      ]
    },
    {
      "cell_type": "code",
      "execution_count": 26,
      "metadata": {
        "id": "ZUKRUnc5r-88",
        "colab": {
          "base_uri": "https://localhost:8080/"
        },
        "outputId": "641b2466-c6f6-49a6-8966-1d41a2c0a695"
      },
      "outputs": [
        {
          "name": "stdout",
          "output_type": "stream",
          "text": [
            "정수 2개를 입력해주세요. (예:4 5): 3 4\n",
            "연산자를 입력해주세요. (+, -, *, /, **): +\n",
            "3 + 4 = 7\n",
            "계산을 계속 하시겠습니까? (y, n): y\n",
            "정수 2개를 입력해주세요. (예:4 5): 3 7\n",
            "연산자를 입력해주세요. (+, -, *, /, **): *\n",
            "3 x 7 = 21\n",
            "계산을 계속 하시겠습니까? (y, n): y\n",
            "정수 2개를 입력해주세요. (예:4 5): 3 9\n",
            "연산자를 입력해주세요. (+, -, *, /, **): /\n",
            "3 / 9 = 0.3333333333333333\n",
            "계산을 계속 하시겠습니까? (y, n): n\n"
          ]
        }
      ],
      "source": [
        "# 모듈 import\n",
        "import math as m\n",
        "\n",
        "# 정수를 2개 입력 받는 함수\n",
        "def get_integers():\n",
        "  integers = input('정수 2개를 입력해주세요. (예:4 5): ')\n",
        "  return integers\n",
        "\n",
        "# 연산자를 입력 받는 함수\n",
        "def get_operator():\n",
        "  operator = input('연산자를 입력해주세요. (+, -, *, /, **): ')\n",
        "  return operator\n",
        "\n",
        "# 계산기 함수\n",
        "def calculator():\n",
        "\n",
        "  # 정수 2개 입력 받기\n",
        "  integers = get_integers().split() # 문자열 \"4 5\" --> 리스트 ['4', '5']\n",
        "\n",
        "  # 정수가 아닌 경우, 정수를 입력할 때까지 다시 입력 시도\n",
        "  # 첫번째 입력값과 두번째 입력값 중 어느 하나라도 정수가 아닌경우 while문을 지속한다.\n",
        "  while not integers[0].isdigit() or not integers[1].isdigit():\n",
        "    print('정수가 아닌 값이 들어왔습니다! 정수를 입력해주세요!')\n",
        "    integers = get_integers().split()\n",
        "\n",
        "  # 연산자 입력 받기\n",
        "  operator = get_operator()\n",
        "\n",
        "  # 연산자 (+, -, *, /, **)가 아닌 다른 값이 들어오면 에러 처리\n",
        "  if operator not in ['+', '-', '*', '/', '**']:\n",
        "    raise ValueError('연산자 +, -, *, /, ** 중에 골라주세요!') # 계산기 종료\n",
        "\n",
        "  # 더하기\n",
        "  if operator == '+':\n",
        "    result = int(integers[0]) + int(integers[1])\n",
        "    print(f\"{integers[0]} + {integers[1]} = {result}\")\n",
        "\n",
        "  # 빼기\n",
        "  elif operator == '-':\n",
        "    result = int(integers[0]) + int(integers[1])\n",
        "    print(f\"{integers[0]} - {integers[1]} = {result}\")\n",
        "\n",
        "  # 곱하기\n",
        "  elif operator == '*':\n",
        "    result = int(integers[0]) * int(integers[1])\n",
        "    print(f\"{integers[0]} x {integers[1]} = {result}\")\n",
        "\n",
        "  # 제곱, math 모듈 사용\n",
        "  elif operator == '**':\n",
        "    result = m.pow(int(integers[0]), int(integers[1]))\n",
        "    print(f\"{integers[0]}의 {integers[1]}제곱 = {result}\")\n",
        "\n",
        "  # 나누기\n",
        "  elif operator == '/':\n",
        "    # 나눗셈 연산할 때, 두번째 정수가 0이면 에러 처리\n",
        "    if int(integers[1]) == 0:\n",
        "      raise ZeroDivisionError('0으로 나눌 수 없습니다!')\n",
        "    else: # 두번째 정수가 0이 아니면\n",
        "      result = int(integers[0]) / int(integers[1])\n",
        "      print(f\"{integers[0]} / {integers[1]} = {result}\")\n",
        "\n",
        "def main_con():\n",
        "  con = input('계산을 계속 하시겠습니까? (y, n): ')\n",
        "  return con\n",
        "\n",
        "# 계산을 계속 할 것이냐 y, n\n",
        "calculator()\n",
        "\n",
        "while True:\n",
        "\n",
        "  con = main_con() # con: continue\n",
        "\n",
        "  if con == 'y':\n",
        "    calculator() # 계산기 함수\n",
        "\n",
        "  elif con == 'n':\n",
        "    print('계산기를 종료합니다!')\n",
        "    break\n",
        "\n",
        "  else:\n",
        "    print('y 또는 n을 입력해주세요!')\n",
        "\n"
      ]
    },
    {
      "cell_type": "code",
      "source": [
        "string = '4'\n",
        "\n",
        "string.isdigit()"
      ],
      "metadata": {
        "colab": {
          "base_uri": "https://localhost:8080/"
        },
        "id": "0Crh7fvBwXkW",
        "outputId": "23838c9a-7fd0-4daa-d453-4490267e0aac"
      },
      "execution_count": null,
      "outputs": [
        {
          "output_type": "execute_result",
          "data": {
            "text/plain": [
              "True"
            ]
          },
          "metadata": {},
          "execution_count": 6
        }
      ]
    },
    {
      "cell_type": "markdown",
      "source": [
        "### 회고\n",
        "\n",
        "김민규 : 중간중간에 막히는 부분이 몇 번 있었지만 적절한 해결책을 찾을 수 있어서 기뻤습니다. 코랩 노트북이 좋은 점이 결과를 확인하고 싶은 코드만 실행시킬 수 있다는 것 같습니다. 덕분에 빠르게 원하는 결과를 찾아갈 수 있었습니다.\n",
        "\n",
        "반업석 : 정수 입력 처리,\n",
        "연산자 입력 처리,계산 수행 등 코드를 실행하면 사용자로부터 입력을 받아 계산 결과를 출력하고, 오류를 적절히 처리할 수 있는것을 배웠고 아직 자신의 코딩기법이 갈길이 멀다는것을 느꼈음"
      ],
      "metadata": {
        "id": "PAiZUOUXB5dx"
      }
    },
    {
      "cell_type": "code",
      "source": [],
      "metadata": {
        "id": "jxhWfGbv79I_"
      },
      "execution_count": null,
      "outputs": []
    }
  ]
}