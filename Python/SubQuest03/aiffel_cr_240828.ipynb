{
  "nbformat": 4,
  "nbformat_minor": 0,
  "metadata": {
    "colab": {
      "provenance": [],
      "include_colab_link": true
    },
    "kernelspec": {
      "name": "python3",
      "display_name": "Python 3"
    },
    "language_info": {
      "name": "python"
    }
  },
  "cells": [
    {
      "cell_type": "markdown",
      "metadata": {
        "id": "view-in-github",
        "colab_type": "text"
      },
      "source": [
        "<a href=\"https://colab.research.google.com/github/incheonQ/AIFFEL_quest_cr/blob/main/Python/SubQuest03/aiffel_cr_240828.ipynb\" target=\"_parent\"><img src=\"https://colab.research.google.com/assets/colab-badge.svg\" alt=\"Open In Colab\"/></a>"
      ]
    },
    {
      "cell_type": "markdown",
      "source": [
        "# [파이썬] 퀘스트: 클로저를 활용한 문제해결하기\n",
        "\n",
        "난이도: ★★★★☆  \n",
        "장르: nonlocal, 클로저, 데코레이터 활용  \n",
        "\n",
        "---\n",
        "\n",
        "\n"
      ],
      "metadata": {
        "id": "sPRcyZsPorCm"
      }
    },
    {
      "cell_type": "markdown",
      "source": [
        "## 문제 1. 최댓값과 최솟값 찾기\n",
        "\n"
      ],
      "metadata": {
        "id": "Dh2vcnApr4VI"
      }
    },
    {
      "cell_type": "markdown",
      "source": [
        "조건:  \n",
        "* 주어진 리스트의 최댓값과 최솟값을 반환하는 클로저 함수를 완성해 주세요.\n",
        "    * 주어진 숫자 리스트 numbers에 대해 find_min_max 함수를 호출하면 find_min과 find_max 함수를 얻을 수 있습니다.\n",
        "    * find_min() 함수를 호출하면 최솟값을, find_max()함수를 호출하면 최댓값을 반환합니다.\n",
        "    * 클로저를 사용하여 min_value와 max_value 변수를 외부에 노출하지 않고도 최솟값과 최대값을 찾을 수 있습니다.\n",
        "    * find_min_max 함수가 호출된 이후에도 find_min과 find_max 함수를 통해 min_value와 max_value 변수에 접근할 수 있습니다.\n",
        "* 주석으로 구현 내용이 써있는 부분을 코드로 채워주세요.\n",
        "---\n",
        "입력:\n",
        "```python\n",
        "numbers = [10, 5, 8, 12, 3, 7]\n",
        "find_min, find_max = find_min_max(numbers)\n",
        "\n",
        "print(\"최솟값:\", find_min())  \n",
        "print(\"최댓값:\", find_max())  \n",
        "```\n",
        "---\n",
        "출력:\n",
        "```\n",
        "3\n",
        "12\n",
        "```\n"
      ],
      "metadata": {
        "id": "d-vXJztpvFD-"
      }
    },
    {
      "cell_type": "code",
      "source": [
        "def find_min_max(numbers):\n",
        "    # min_value와 max_value 변수를 초기화\n",
        "    # min_value는 양의 무한대(float('inf'))로 초기화하여 어떤 숫자보다도 큰 값으로 설정\n",
        "    min_value = float('inf')\n",
        "    # max_value는 음의 무한대(float('-inf'))로 초기화하여 어떤 숫자보다도 작은 값으로 설정\n",
        "    max_value = float('-inf')\n",
        "\n",
        "    count = '#' # 클로저 함수가 데이터를 저장하는지 실험\n",
        "\n",
        "    def update_min_max(num):\n",
        "        # 외부함수의 변수인 min_value, max_value 참조\n",
        "        nonlocal min_value, max_value\n",
        "\n",
        "        # 만약 num 값이 min_value보다 작다면 min_value를 num 값으로 변경\n",
        "        if num < min_value:\n",
        "            min_value = num\n",
        "\n",
        "        # 만약 num 값이 max_value보다 크다면 max_value를 num 값으로 변경\n",
        "        if num > max_value:\n",
        "            max_value = num\n",
        "\n",
        "\n",
        "    # numbers 리스트의 모든 값을 순환하며 최댓값과 최솟값 업데이트\n",
        "    for num in numbers:\n",
        "        update_min_max(num)\n",
        "\n",
        "    # 최솟값을 반환하는 내부함수\n",
        "    def get_min():\n",
        "        nonlocal count # 클로저 함수가 데이터를 저장하는지 실험\n",
        "        print(count)\n",
        "        count += '#'\n",
        "        return min_value\n",
        "\n",
        "\n",
        "    # 최댓값을 반환하는 내부함수\n",
        "    def get_max():\n",
        "        return max_value\n",
        "\n",
        "\n",
        "    # 외부함수는 내부함수(get_min()과 get_max())를 반환\n",
        "    return get_min, get_max\n"
      ],
      "metadata": {
        "id": "oF_uYyS2jjPj"
      },
      "execution_count": 23,
      "outputs": []
    },
    {
      "cell_type": "code",
      "source": [
        "numbers = [10, 5, 8, 12, 3, 7]\n",
        "find_min, find_max = find_min_max(numbers)\n",
        "\n",
        "print(\"최솟값:\", find_min())  # 3\n",
        "print(\"최댓값:\", find_max())  # 12"
      ],
      "metadata": {
        "id": "fCd_fJBrobxi",
        "colab": {
          "base_uri": "https://localhost:8080/"
        },
        "outputId": "be394fd1-275b-4255-cbdb-e3da4014b3f0"
      },
      "execution_count": 24,
      "outputs": [
        {
          "output_type": "stream",
          "name": "stdout",
          "text": [
            "#\n",
            "최솟값: 3\n",
            "최댓값: 12\n"
          ]
        }
      ]
    },
    {
      "cell_type": "code",
      "source": [
        "print(\"최솟값:\", find_min())  # 3\n",
        "print(\"최댓값:\", find_max())  # 12"
      ],
      "metadata": {
        "colab": {
          "base_uri": "https://localhost:8080/"
        },
        "id": "rQTrD-1Y0QZF",
        "outputId": "4964c4be-bdbc-498c-e529-db077bb9b779"
      },
      "execution_count": 25,
      "outputs": [
        {
          "output_type": "stream",
          "name": "stdout",
          "text": [
            "##\n",
            "최솟값: 3\n",
            "최댓값: 12\n"
          ]
        }
      ]
    },
    {
      "cell_type": "code",
      "source": [
        "print(\"최솟값:\", find_min())  # 3\n",
        "print(\"최댓값:\", find_max())  # 12"
      ],
      "metadata": {
        "colab": {
          "base_uri": "https://localhost:8080/"
        },
        "id": "Rwi3N8Ph0Q0N",
        "outputId": "69693b28-3562-4fd6-81f0-20b1b12e1ca7"
      },
      "execution_count": 26,
      "outputs": [
        {
          "output_type": "stream",
          "name": "stdout",
          "text": [
            "###\n",
            "최솟값: 3\n",
            "최댓값: 12\n"
          ]
        }
      ]
    },
    {
      "cell_type": "markdown",
      "source": [
        "## 문제 2. 함수의 호출 횟수를 세는 데코레이터"
      ],
      "metadata": {
        "id": "d3XECsmXwES5"
      }
    },
    {
      "cell_type": "markdown",
      "source": [
        "지난 시간에 배운 데코레이터를 기억하시나요? 데코레이터도 내부함수를 반환하는 클로저를 활용한 문법입니다. 클로저를 활용하여 함수 호출 횟수를 출력하는 데코레이터를 만들어봅시다.\n",
        "\n",
        "조건:\n",
        "* 함수가 실행될 때 마다 함수 이름과 실행 횟수를 출력하는 데코레이터 `counter` 만들기  \n",
        "\n",
        "힌트:\n",
        "* 데코레이터의 내부 함수(클로저)는 실행횟수를 기억하기 위해 외부 함수의 변수를 참조 해야 합니다\n",
        "* 함수의 이름은 `함수이름.__name__`으로 접근할 수 있습니다.\n",
        "\n",
        "---\n",
        "입력:\n",
        "```python\n",
        "@counter\n",
        "def say_hello():\n",
        "    print(\"Hello Aiffel!\")\n",
        "\n",
        "for i in range(5):\n",
        "    say_hello()\n",
        "```\n",
        "---\n",
        "출력:\n",
        "```\n",
        "Hello Aiffel!\n",
        "say_hello 실행횟수: 1\n",
        "Hello Aiffel!\n",
        "say_hello 실행횟수: 2\n",
        "Hello Aiffel!\n",
        "say_hello 실행횟수: 3\n",
        "Hello Aiffel!\n",
        "say_hello 실행횟수: 4\n",
        "Hello Aiffel!\n",
        "say_hello 실행횟수: 5\n",
        "```"
      ],
      "metadata": {
        "id": "HTdH6DkVvJMF"
      }
    },
    {
      "cell_type": "code",
      "source": [
        "def counter(func):\n",
        "\n",
        "  count = 0\n",
        "\n",
        "  def wrapper():\n",
        "    nonlocal count\n",
        "    count += 1\n",
        "    print(f\"{func.__name__} 실행횟수: {count}\")\n",
        "    result = func()\n",
        "    return result\n",
        "\n",
        "  return wrapper"
      ],
      "metadata": {
        "id": "QYdFtnf-MOCg"
      },
      "execution_count": 8,
      "outputs": []
    },
    {
      "cell_type": "code",
      "source": [
        "@counter\n",
        "def say_hello():\n",
        "    print(\"Hello Aiffel!\")\n",
        "\n",
        "for i in range(5):\n",
        "    say_hello()"
      ],
      "metadata": {
        "colab": {
          "base_uri": "https://localhost:8080/"
        },
        "id": "6T5RNAdqy5gN",
        "outputId": "765cdbf1-3cdb-4176-bf45-e2158a071d19"
      },
      "execution_count": 10,
      "outputs": [
        {
          "output_type": "stream",
          "name": "stdout",
          "text": [
            "say_hello 실행횟수: 1\n",
            "Hello Aiffel!\n",
            "say_hello 실행횟수: 2\n",
            "Hello Aiffel!\n",
            "say_hello 실행횟수: 3\n",
            "Hello Aiffel!\n",
            "say_hello 실행횟수: 4\n",
            "Hello Aiffel!\n",
            "say_hello 실행횟수: 5\n",
            "Hello Aiffel!\n"
          ]
        }
      ]
    },
    {
      "cell_type": "code",
      "source": [
        "def gugudan(func):\n",
        "\n",
        "  count = 0\n",
        "\n",
        "  def wrapper(dan):\n",
        "    nonlocal count\n",
        "    count += 1\n",
        "    print(f\"{dan} X {count} = {dan*count}\")\n",
        "    result = func(dan)\n",
        "    return result\n",
        "\n",
        "  return wrapper\n",
        "\n",
        "dan = int(input(\"몇 단?\"))\n",
        "\n",
        "@gugudan\n",
        "def say_gugudan(dan):\n",
        "    print(\"구구단을 외자!\")\n",
        "\n",
        "for i in range(9):\n",
        "    say_gugudan(dan)"
      ],
      "metadata": {
        "colab": {
          "base_uri": "https://localhost:8080/"
        },
        "id": "1fJ2ZV9by75W",
        "outputId": "7ffc5f4b-4f34-474c-d100-ac726e7aead6"
      },
      "execution_count": 14,
      "outputs": [
        {
          "output_type": "stream",
          "name": "stdout",
          "text": [
            "몇 단?3\n",
            "3 X 1 = 3\n",
            "구구단을 외자!\n",
            "3 X 2 = 6\n",
            "구구단을 외자!\n",
            "3 X 3 = 9\n",
            "구구단을 외자!\n",
            "3 X 4 = 12\n",
            "구구단을 외자!\n",
            "3 X 5 = 15\n",
            "구구단을 외자!\n",
            "3 X 6 = 18\n",
            "구구단을 외자!\n",
            "3 X 7 = 21\n",
            "구구단을 외자!\n",
            "3 X 8 = 24\n",
            "구구단을 외자!\n",
            "3 X 9 = 27\n",
            "구구단을 외자!\n"
          ]
        }
      ]
    },
    {
      "cell_type": "code",
      "source": [],
      "metadata": {
        "id": "NI_VqDPJzRCX"
      },
      "execution_count": null,
      "outputs": []
    },
    {
      "cell_type": "markdown",
      "source": [
        "## 회고\n",
        "\n",
        "김민규 : 데코레이터가 유용하다는 사실은 알았지만, 클로저라는 것을 지금까지 몰랐기 때문에 이해가 잘 되지 않는 부분이 있었다. 이번 기회에 이 부분을 확실하게 짚고 넘어갈 수 있어서 좋았다! 변경 사항이 저장되지 않는 해프닝이 있었지만, gemini의 도움을 받아 빠르게 재작성할 수 있었다!\n",
        "\n",
        "조계현 : 아직 파이썬 문법이 익숙하지 못해 같이 작업한 민규님의 도움을 크게 받았다."
      ],
      "metadata": {
        "id": "i9aqaX0l072b"
      }
    },
    {
      "cell_type": "code",
      "source": [],
      "metadata": {
        "id": "_Eb5qQlm08jo"
      },
      "execution_count": null,
      "outputs": []
    }
  ]
}