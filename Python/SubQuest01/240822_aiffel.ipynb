{
  "nbformat": 4,
  "nbformat_minor": 0,
  "metadata": {
    "colab": {
      "provenance": [],
      "include_colab_link": true
    },
    "kernelspec": {
      "name": "python3",
      "display_name": "Python 3"
    },
    "language_info": {
      "name": "python"
    }
  },
  "cells": [
    {
      "cell_type": "markdown",
      "metadata": {
        "id": "view-in-github",
        "colab_type": "text"
      },
      "source": [
        "<a href=\"https://colab.research.google.com/github/incheonQ/AIFFEL_quest_cr/blob/main/Python/SubQuest01/240822_aiffel.ipynb\" target=\"_parent\"><img src=\"https://colab.research.google.com/assets/colab-badge.svg\" alt=\"Open In Colab\"/></a>"
      ]
    },
    {
      "cell_type": "markdown",
      "source": [
        "### 퀘스트 1 회문인지 아닌지 확인하는 프로그램\n",
        "\n",
        "회문 예시 ) 기러기, 토마토, 스위스\n",
        "\n",
        "조건 )\n",
        "- 단어를 입력 받을 수 있게 한다\n",
        "- 입력된 단어를 뒤집어서 출력할 수 있게 한다\n",
        "- 입력된 단어가 회문이 맞는지 확인하여 출력할 수 있게 한다\n",
        "- 자료형, 제어문, 함수를 활용한다.\n",
        "\n"
      ],
      "metadata": {
        "id": "vFxTrK2YnwXZ"
      }
    },
    {
      "cell_type": "markdown",
      "source": [
        "### 회문 예시\n",
        "조광조, 이남이, 스위스, 다들 잠 들다, 아 좋다 좋아, 통술집 술통,\n",
        "다 가져 가다, 건조한 조건, 기특한 특기, 다 이심전심이다,\n",
        "자 빨리 빨리 빨자, 자꾸만 꿈만 꾸자, 다 같은 금은 같다,\n",
        "다 좋은 것은 좋다, 다시 합창 합시다, 소주 만 병만 주소, 색갈은 짙은 갈색,\n",
        "다 같은 것은 같다, 바로크는 크로바, 다 이뿐이 뿐이다, 여보 안경 안 보여,\n",
        "짐 사이에 이사짐, 생선 사가는 가사 선생, 여보게 저기 저게 보여,\n",
        "다 큰 도라지일지라도 큰다, 대한 총기공사 공기총 한 대,\n",
        "소 있고 지게 지고 있소, 나가다 오나 나오다 가나,\n",
        "다리 그리고 저고리 그리다, 다시 올 이월이 윤이월이 올시다,\n",
        "아들 딸이 다 컸다 이 딸들아, 지방 상인 정부미 부정 인상 방지,\n",
        "가련하다 사장집 아들딸들아 집장사 다 하련가\n",
        "\n",
        "출처 : 시사주간(http://www.sisaweekly.com)"
      ],
      "metadata": {
        "id": "o3PfEgYutnYZ"
      }
    },
    {
      "cell_type": "markdown",
      "source": [
        "### 아이디어\n",
        "\n",
        "- Input : 문자열\n",
        "- Function : 회문인지 아닌지 판별\n",
        "- Output : True or False\n",
        "\n",
        "❇️ **입력받은 문자열을 뒤집고, 둘을 비교한다.**\n",
        "\n",
        "if (입력받은 문자열) == reversed(입력받은 문자열)\n",
        "\n",
        "만약 비교결과가 True라면, 회문\n",
        "\n",
        "\n",
        "\n",
        "❇️ **For문 활용한다.**\n",
        "\n",
        "1번째 글자 == -1번째 글자 비교\n",
        "\n",
        "2번째 글자 == -2번째 글자 비교\n",
        "\n",
        "...\n",
        "\n",
        "n/2번째 글자 == -n/2번째 글자 비교 *글자 수가 홀수일 때는?*\n",
        "\n",
        "만약 비교결과가 모두 True라면, 회문\n",
        "\n",
        "❇️ **슬라이싱 활용한다.**\n",
        "\n",
        "(입력받은 문자열)[::-1] -> (뒤집힌 문자열)"
      ],
      "metadata": {
        "id": "v2ghEkYytJm3"
      }
    },
    {
      "cell_type": "code",
      "source": [
        "def is_palindrome(word):\n",
        "\n",
        "    # 단어에서 공백을 제거\n",
        "    word_replace = word.replace(\" \", \"\")\n",
        "\n",
        "    # 단어를 뒤집어서 반환\n",
        "    reversed_word = word_replace[::-1]\n",
        "\n",
        "    # 입력된 단어와 뒤집힌 단어가 같은지 비교하여 회문 여부를 반환\n",
        "    if word_replace == reversed_word:\n",
        "        print(f\"'{word}'은(는) 회문입니다.\")\n",
        "    else:\n",
        "        print(f\"'{word}'은(는) 회문이 아닙니다.\")\n",
        "\n",
        "\n",
        "word = input(\"단어를 입력하세요: \")\n",
        "\n",
        "\n",
        "is_palindrome(word)"
      ],
      "metadata": {
        "id": "Js6suXFcs5Ug",
        "colab": {
          "base_uri": "https://localhost:8080/"
        },
        "outputId": "aa2c92af-549f-4b85-caac-098908e54341"
      },
      "execution_count": null,
      "outputs": [
        {
          "output_type": "stream",
          "name": "stdout",
          "text": [
            "단어를 입력하세요: 기특한 특기\n",
            "'기특한 특기'은(는) 회문입니다.\n"
          ]
        }
      ]
    },
    {
      "cell_type": "code",
      "source": [
        "def is_palindrome1(Word):\n",
        "\n",
        "  Word_replace = Word.replace(\" \", \"\")\n",
        "\n",
        "  for i in range(len(Word_replace)//2):\n",
        "\n",
        "    if Word_replace[i] == Word_replace[-i-1]:\n",
        "      continue\n",
        "\n",
        "    else:\n",
        "      print(f\"'{Word}'은(는) 회문이 아닙니다.\")\n",
        "      return None\n",
        "\n",
        "  print(f\"'{Word}'은(는) 회문입니다.\")\n",
        "\n",
        "Word = input(\"단어를 입력하세요: \")\n",
        "\n",
        "is_palindrome1(Word)"
      ],
      "metadata": {
        "id": "m12Synn4sv9i",
        "colab": {
          "base_uri": "https://localhost:8080/"
        },
        "outputId": "e93cb6bf-1e22-420c-8d25-141b5bb031c3"
      },
      "execution_count": null,
      "outputs": [
        {
          "output_type": "stream",
          "name": "stdout",
          "text": [
            "단어를 입력하세요: 기특한 특기\n",
            "'기특한 특기'은(는) 회문입니다.\n"
          ]
        }
      ]
    },
    {
      "cell_type": "code",
      "source": [
        "def is_palindrome2(Word):\n",
        "\n",
        "  Word_replace = Word.replace(\" \", \"\")\n",
        "\n",
        "  for i in range(len(Word_replace)//2):\n",
        "\n",
        "    if Word_replace[i] == Word_replace[-i-1]:\n",
        "      continue\n",
        "\n",
        "    else:\n",
        "      print(f\"'{Word}'은(는) 회문이 아닙니다.\")\n",
        "      print(f\"왜냐하면 {i+1}번째 글자 '{Word_replace[i]}'(이)랑 {len(Word_replace)-i}번째 글자 '{Word_replace[-i-1]}'(이)가 다르기 때문입니다.\")\n",
        "      return None\n",
        "\n",
        "  print(f\"'{Word}'은(는) 회문입니다.\")\n",
        "\n",
        "Word = input(\"단어를 입력하세요: \")\n",
        "\n",
        "is_palindrome2(Word)"
      ],
      "metadata": {
        "colab": {
          "base_uri": "https://localhost:8080/"
        },
        "id": "EMfIxU1S2PyS",
        "outputId": "0f476b52-5276-4f54-f73b-1a49b0d524d8"
      },
      "execution_count": null,
      "outputs": [
        {
          "output_type": "stream",
          "name": "stdout",
          "text": [
            "단어를 입력하세요: apple121ellpa\n",
            "'apple121ellpa'은(는) 회문이 아닙니다.\n",
            "왜냐하면 3번째 글자 'p'(이)랑 11번째 글자 'l'(이)가 다르기 때문입니다.\n"
          ]
        }
      ]
    },
    {
      "cell_type": "code",
      "source": [],
      "metadata": {
        "id": "WSSKBD9urXA9"
      },
      "execution_count": null,
      "outputs": []
    },
    {
      "cell_type": "code",
      "source": [],
      "metadata": {
        "id": "mgSB0nH8r_9q"
      },
      "execution_count": null,
      "outputs": []
    },
    {
      "cell_type": "code",
      "source": [],
      "metadata": {
        "id": "GHR4znCZr-r6"
      },
      "execution_count": null,
      "outputs": []
    }
  ]
}